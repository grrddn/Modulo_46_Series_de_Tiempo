{
 "cells": [
  {
   "cell_type": "markdown",
   "id": "22b64baf",
   "metadata": {},
   "source": [
    "# **Módulo 46 - Introducción a las Series de Tiempo**\n",
    "\n",
    "En este módulo, nos adentraremos en el fascinante mundo de las series de tiempo, con un enfoque especial en el análisis y visualización de datos financieros. Aprenderemos a manejar y analizar conjuntos de datos ordenados cronológicamente, esenciales para comprender el comportamiento del mercado de valores.\n",
    "\n",
    "- **Componentes de una Serie Temporal**\n",
    "\n",
    "Exploraremos los elementos fundamentales de una serie tempora, como la tendencia, estacionalidad, ciclos y ruido. Comprenderemos cómo estos componentes afectan el análisis de datos y cómo identificar patrones subyacentes.\n",
    "\n",
    "- **Visualización de Datos Financieros**\n",
    "\n",
    "Aprenderemos a utilizar técnicas avanzadas de visualización, como gráficos OHLC y velas japonesas, para analizar el sentimiento del mercado y predecir cambios de precios. Estas herramientas nos permitirán representar detalladamente las fluctuaciones diarias de precios.\n",
    "\n",
    "- **Predicción con Medias Móviles**\n",
    "\n",
    "Introduciremos la técnica de predicción mediante medias móviles, que utiliza promedios de datos pasados para prever valores futuros. Evaluaremos la precisión de nuestras predicciones utilizando métricas como RMSE y MAPE."
   ]
  },
  {
   "cell_type": "markdown",
   "id": "c824a6ae",
   "metadata": {},
   "source": [
    "____\n",
    "# **Series de Tiempo**\n",
    "\n",
    "Una serie de tiempo es un conjunto de puntos ordenados con relación al tiempo.\n",
    "\n",
    "Los puntos de una serie de tiempo están ordenados en unidades equidistantes de tiempo. Por ejemplo, una serie diaria de precios, un conjunto mensual de tasas de préstamo.\n",
    "\n",
    "Las series de tiempo se visualizan con una gráfica llamada de la misma forma, que no es más que una gráfica de líneas donde el eje 'X' corresponde al eje temporal."
   ]
  },
  {
   "cell_type": "markdown",
   "id": "abbcbf24",
   "metadata": {},
   "source": [
    "## **Componentes de una Serie de Tiempo**\n",
    "\n",
    "- **Tendencia** - Componente de base que indica si la serie es ascendente o descendiente. Es un componente de largo plazo, menos abrupto en su movimiento.\n",
    "\n",
    "- **Estacionalidad** - Ciclos repetitivos en la serie, identificados por patrones en su comportamiento. Por ejemplo, altas ventas en mayo, diciembre.\n",
    "\n",
    "- **Componente Cíclico** - Es la parte de lse serie de tiempo que puede ser explicada por movimientos cíclicos en otras variables de base (sistemáticas), como la economía.\n",
    "\n",
    "- **Ruido** - Variación aleatoria en la serie de tiempo. No puede ser explicada por movimientos de base o patrones.\n",
    "\n",
    "- **Residuo** - Usado en procesos de *fit* de series de tiempo, el residuo es lo que queda al final del proceso. Es la diferencia entre la predicción y lo observado.\n",
    "\n",
    "- **Nivel** - El valor promedio de una serie de tiempo.\n",
    "____"
   ]
  },
  {
   "cell_type": "code",
   "execution_count": 1,
   "id": "434d132e",
   "metadata": {},
   "outputs": [],
   "source": [
    "import warnings\n",
    "warnings.filterwarnings('ignore')"
   ]
  },
  {
   "cell_type": "code",
   "execution_count": 2,
   "id": "b1058aae",
   "metadata": {},
   "outputs": [],
   "source": [
    "import pandas as pd\n",
    "import numpy as np\n",
    "import seaborn as sns\n",
    "import matplotlib.pyplot as plt\n",
    "import statsmodels.api as sm\n",
    "import os"
   ]
  },
  {
   "cell_type": "code",
   "execution_count": 4,
   "id": "e72f8d8a",
   "metadata": {},
   "outputs": [
    {
     "data": {
      "text/html": [
       "<div>\n",
       "<style scoped>\n",
       "    .dataframe tbody tr th:only-of-type {\n",
       "        vertical-align: middle;\n",
       "    }\n",
       "\n",
       "    .dataframe tbody tr th {\n",
       "        vertical-align: top;\n",
       "    }\n",
       "\n",
       "    .dataframe thead th {\n",
       "        text-align: right;\n",
       "    }\n",
       "</style>\n",
       "<table border=\"1\" class=\"dataframe\">\n",
       "  <thead>\n",
       "    <tr style=\"text-align: right;\">\n",
       "      <th></th>\n",
       "      <th>Open</th>\n",
       "      <th>High</th>\n",
       "      <th>Low</th>\n",
       "      <th>Close</th>\n",
       "      <th>Volume</th>\n",
       "      <th>Name</th>\n",
       "    </tr>\n",
       "    <tr>\n",
       "      <th>Date</th>\n",
       "      <th></th>\n",
       "      <th></th>\n",
       "      <th></th>\n",
       "      <th></th>\n",
       "      <th></th>\n",
       "      <th></th>\n",
       "    </tr>\n",
       "  </thead>\n",
       "  <tbody>\n",
       "    <tr>\n",
       "      <th>2010-05-17</th>\n",
       "      <td>36.39</td>\n",
       "      <td>36.60</td>\n",
       "      <td>35.39</td>\n",
       "      <td>36.32</td>\n",
       "      <td>190708252</td>\n",
       "      <td>AAPL</td>\n",
       "    </tr>\n",
       "    <tr>\n",
       "      <th>2014-09-09</th>\n",
       "      <td>99.08</td>\n",
       "      <td>103.08</td>\n",
       "      <td>96.14</td>\n",
       "      <td>97.99</td>\n",
       "      <td>189846255</td>\n",
       "      <td>AAPL</td>\n",
       "    </tr>\n",
       "    <tr>\n",
       "      <th>2011-05-04</th>\n",
       "      <td>49.75</td>\n",
       "      <td>50.26</td>\n",
       "      <td>49.55</td>\n",
       "      <td>49.94</td>\n",
       "      <td>97312229</td>\n",
       "      <td>AAPL</td>\n",
       "    </tr>\n",
       "    <tr>\n",
       "      <th>2015-12-24</th>\n",
       "      <td>109.00</td>\n",
       "      <td>109.00</td>\n",
       "      <td>107.95</td>\n",
       "      <td>108.03</td>\n",
       "      <td>13596680</td>\n",
       "      <td>AAPL</td>\n",
       "    </tr>\n",
       "    <tr>\n",
       "      <th>2016-06-28</th>\n",
       "      <td>92.90</td>\n",
       "      <td>93.66</td>\n",
       "      <td>92.14</td>\n",
       "      <td>93.59</td>\n",
       "      <td>40444914</td>\n",
       "      <td>AAPL</td>\n",
       "    </tr>\n",
       "  </tbody>\n",
       "</table>\n",
       "</div>"
      ],
      "text/plain": [
       "              Open    High     Low   Close     Volume  Name\n",
       "Date                                                       \n",
       "2010-05-17   36.39   36.60   35.39   36.32  190708252  AAPL\n",
       "2014-09-09   99.08  103.08   96.14   97.99  189846255  AAPL\n",
       "2011-05-04   49.75   50.26   49.55   49.94   97312229  AAPL\n",
       "2015-12-24  109.00  109.00  107.95  108.03   13596680  AAPL\n",
       "2016-06-28   92.90   93.66   92.14   93.59   40444914  AAPL"
      ]
     },
     "execution_count": 4,
     "metadata": {},
     "output_type": "execute_result"
    }
   ],
   "source": [
    "df = pd.read_csv(r'C:\\Users\\danielortega\\OneDrive - HOTELERA YALKUITO SA DE CV\\Desktop\\No Borrar Daniel\\30 Data Analyst - Curso\\52_Módulo_46_Series_de_Tiempo\\Modulo_46_Series_de_Tiempo\\Analista de datos AAPL_2006-01-01_to_2018-01-01_M30.csv', index_col='Date', parse_dates=['Date'])\n",
    "\n",
    "df.sample(5)"
   ]
  },
  {
   "cell_type": "code",
   "execution_count": null,
   "id": "934d10f1",
   "metadata": {},
   "outputs": [],
   "source": []
  },
  {
   "cell_type": "code",
   "execution_count": null,
   "id": "ec0f7dd8",
   "metadata": {},
   "outputs": [],
   "source": []
  }
 ],
 "metadata": {
  "kernelspec": {
   "display_name": "base",
   "language": "python",
   "name": "python3"
  },
  "language_info": {
   "codemirror_mode": {
    "name": "ipython",
    "version": 3
   },
   "file_extension": ".py",
   "mimetype": "text/x-python",
   "name": "python",
   "nbconvert_exporter": "python",
   "pygments_lexer": "ipython3",
   "version": "3.12.7"
  }
 },
 "nbformat": 4,
 "nbformat_minor": 5
}
